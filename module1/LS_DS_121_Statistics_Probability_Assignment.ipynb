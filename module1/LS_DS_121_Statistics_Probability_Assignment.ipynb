{
  "nbformat": 4,
  "nbformat_minor": 0,
  "metadata": {
    "kernelspec": {
      "display_name": "Python 3",
      "language": "python",
      "name": "python3"
    },
    "language_info": {
      "codemirror_mode": {
        "name": "ipython",
        "version": 3
      },
      "file_extension": ".py",
      "mimetype": "text/x-python",
      "name": "python",
      "nbconvert_exporter": "python",
      "pygments_lexer": "ipython3",
      "version": "3.7.3"
    },
    "colab": {
      "name": "LS_DS_121_Statistics_Probability_Assignment.ipynb",
      "provenance": []
    }
  },
  "cells": [
    {
      "cell_type": "markdown",
      "metadata": {
        "id": "Sa5KWMO1ngPN",
        "colab_type": "text"
      },
      "source": [
        "<img align=\"left\" src=\"https://lever-client-logos.s3.amazonaws.com/864372b1-534c-480e-acd5-9711f850815c-1524247202159.png\" width=200>\n",
        "<br></br>\n",
        "<br></br>\n",
        "\n",
        "## *Data Science Unit 1 Sprint 2 Assignment 1*\n",
        "\n",
        "# Apply the t-test to real data\n",
        "\n",
        "Your assignment is to determine which issues have \"statistically significant\" differences between political parties in this [1980s congressional voting data](https://archive.ics.uci.edu/ml/datasets/Congressional+Voting+Records). The data consists of 435 instances (one for each congressperson), a class (democrat or republican), and 16 binary attributes (yes or no for voting for or against certain issues). Be aware - there are missing values!\n",
        "\n",
        "Your goals:\n",
        "\n",
        "1. Load and clean the data (or determine the best method to drop observations when running tests)\n",
        "2. Using hypothesis testing, find an issue that democrats support more than republicans with p < 0.01\n",
        "3. Using hypothesis testing, find an issue that republicans support more than democrats with p < 0.01\n",
        "4. Using hypothesis testing, find an issue where the difference between republicans and democrats has p > 0.1 (i.e. there may not be much of a difference)\n",
        "\n",
        "Note that this data will involve *2 sample* t-tests, because you're comparing averages across two groups (republicans and democrats) rather than a single group against a null hypothesis.\n",
        "\n",
        "Stretch goals:\n",
        "\n",
        "1. Refactor your code into functions so it's easy to rerun with arbitrary variables\n",
        "2. Apply hypothesis testing to your personal project data (for the purposes of this notebook you can type a summary of the hypothesis you formed and tested)"
      ]
    },
    {
      "cell_type": "code",
      "metadata": {
        "id": "ZKwspo2CngPP",
        "colab_type": "code",
        "colab": {
          "base_uri": "https://localhost:8080/",
          "height": 204
        },
        "outputId": "1172cbfc-cf22-4c85-e7e1-c03f1134e1b6"
      },
      "source": [
        "!wget 'https://archive.ics.uci.edu/ml/machine-learning-databases/voting-records/house-votes-84.data'"
      ],
      "execution_count": 1,
      "outputs": [
        {
          "output_type": "stream",
          "text": [
            "--2019-12-09 20:10:34--  https://archive.ics.uci.edu/ml/machine-learning-databases/voting-records/house-votes-84.data\n",
            "Resolving archive.ics.uci.edu (archive.ics.uci.edu)... 128.195.10.252\n",
            "Connecting to archive.ics.uci.edu (archive.ics.uci.edu)|128.195.10.252|:443... connected.\n",
            "HTTP request sent, awaiting response... 200 OK\n",
            "Length: 18171 (18K) [application/x-httpd-php]\n",
            "Saving to: ‘house-votes-84.data’\n",
            "\n",
            "\rhouse-votes-84.data   0%[                    ]       0  --.-KB/s               \rhouse-votes-84.data 100%[===================>]  17.75K  --.-KB/s    in 0.02s   \n",
            "\n",
            "2019-12-09 20:10:34 (730 KB/s) - ‘house-votes-84.data’ saved [18171/18171]\n",
            "\n"
          ],
          "name": "stdout"
        }
      ]
    },
    {
      "cell_type": "code",
      "metadata": {
        "id": "OAS0zTX9SUIR",
        "colab_type": "code",
        "colab": {
          "base_uri": "https://localhost:8080/",
          "height": 238
        },
        "outputId": "01481d3b-10d7-4b50-8e6d-61dc12c42b89"
      },
      "source": [
        "import pandas as pd \n",
        "df = pd.read_csv('house-votes-84.data', \n",
        "                 header=None,\n",
        "                 names=['party','handicapped-infants','water-project',\n",
        "                          'budget','physician-fee-freeze', 'el-salvador-aid',\n",
        "                          'religious-groups','anti-satellite-ban',\n",
        "                          'aid-to-contras','mx-missile','immigration',\n",
        "                          'synfuels', 'education', 'right-to-sue','crime','duty-free',\n",
        "                          'south-africa'])\n",
        "print(df.shape)\n",
        "df.head()"
      ],
      "execution_count": 2,
      "outputs": [
        {
          "output_type": "stream",
          "text": [
            "(435, 17)\n"
          ],
          "name": "stdout"
        },
        {
          "output_type": "execute_result",
          "data": {
            "text/html": [
              "<div>\n",
              "<style scoped>\n",
              "    .dataframe tbody tr th:only-of-type {\n",
              "        vertical-align: middle;\n",
              "    }\n",
              "\n",
              "    .dataframe tbody tr th {\n",
              "        vertical-align: top;\n",
              "    }\n",
              "\n",
              "    .dataframe thead th {\n",
              "        text-align: right;\n",
              "    }\n",
              "</style>\n",
              "<table border=\"1\" class=\"dataframe\">\n",
              "  <thead>\n",
              "    <tr style=\"text-align: right;\">\n",
              "      <th></th>\n",
              "      <th>party</th>\n",
              "      <th>handicapped-infants</th>\n",
              "      <th>water-project</th>\n",
              "      <th>budget</th>\n",
              "      <th>physician-fee-freeze</th>\n",
              "      <th>el-salvador-aid</th>\n",
              "      <th>religious-groups</th>\n",
              "      <th>anti-satellite-ban</th>\n",
              "      <th>aid-to-contras</th>\n",
              "      <th>mx-missile</th>\n",
              "      <th>immigration</th>\n",
              "      <th>synfuels</th>\n",
              "      <th>education</th>\n",
              "      <th>right-to-sue</th>\n",
              "      <th>crime</th>\n",
              "      <th>duty-free</th>\n",
              "      <th>south-africa</th>\n",
              "    </tr>\n",
              "  </thead>\n",
              "  <tbody>\n",
              "    <tr>\n",
              "      <th>0</th>\n",
              "      <td>republican</td>\n",
              "      <td>n</td>\n",
              "      <td>y</td>\n",
              "      <td>n</td>\n",
              "      <td>y</td>\n",
              "      <td>y</td>\n",
              "      <td>y</td>\n",
              "      <td>n</td>\n",
              "      <td>n</td>\n",
              "      <td>n</td>\n",
              "      <td>y</td>\n",
              "      <td>?</td>\n",
              "      <td>y</td>\n",
              "      <td>y</td>\n",
              "      <td>y</td>\n",
              "      <td>n</td>\n",
              "      <td>y</td>\n",
              "    </tr>\n",
              "    <tr>\n",
              "      <th>1</th>\n",
              "      <td>republican</td>\n",
              "      <td>n</td>\n",
              "      <td>y</td>\n",
              "      <td>n</td>\n",
              "      <td>y</td>\n",
              "      <td>y</td>\n",
              "      <td>y</td>\n",
              "      <td>n</td>\n",
              "      <td>n</td>\n",
              "      <td>n</td>\n",
              "      <td>n</td>\n",
              "      <td>n</td>\n",
              "      <td>y</td>\n",
              "      <td>y</td>\n",
              "      <td>y</td>\n",
              "      <td>n</td>\n",
              "      <td>?</td>\n",
              "    </tr>\n",
              "    <tr>\n",
              "      <th>2</th>\n",
              "      <td>democrat</td>\n",
              "      <td>?</td>\n",
              "      <td>y</td>\n",
              "      <td>y</td>\n",
              "      <td>?</td>\n",
              "      <td>y</td>\n",
              "      <td>y</td>\n",
              "      <td>n</td>\n",
              "      <td>n</td>\n",
              "      <td>n</td>\n",
              "      <td>n</td>\n",
              "      <td>y</td>\n",
              "      <td>n</td>\n",
              "      <td>y</td>\n",
              "      <td>y</td>\n",
              "      <td>n</td>\n",
              "      <td>n</td>\n",
              "    </tr>\n",
              "    <tr>\n",
              "      <th>3</th>\n",
              "      <td>democrat</td>\n",
              "      <td>n</td>\n",
              "      <td>y</td>\n",
              "      <td>y</td>\n",
              "      <td>n</td>\n",
              "      <td>?</td>\n",
              "      <td>y</td>\n",
              "      <td>n</td>\n",
              "      <td>n</td>\n",
              "      <td>n</td>\n",
              "      <td>n</td>\n",
              "      <td>y</td>\n",
              "      <td>n</td>\n",
              "      <td>y</td>\n",
              "      <td>n</td>\n",
              "      <td>n</td>\n",
              "      <td>y</td>\n",
              "    </tr>\n",
              "    <tr>\n",
              "      <th>4</th>\n",
              "      <td>democrat</td>\n",
              "      <td>y</td>\n",
              "      <td>y</td>\n",
              "      <td>y</td>\n",
              "      <td>n</td>\n",
              "      <td>y</td>\n",
              "      <td>y</td>\n",
              "      <td>n</td>\n",
              "      <td>n</td>\n",
              "      <td>n</td>\n",
              "      <td>n</td>\n",
              "      <td>y</td>\n",
              "      <td>?</td>\n",
              "      <td>y</td>\n",
              "      <td>y</td>\n",
              "      <td>y</td>\n",
              "      <td>y</td>\n",
              "    </tr>\n",
              "  </tbody>\n",
              "</table>\n",
              "</div>"
            ],
            "text/plain": [
              "        party handicapped-infants water-project  ... crime duty-free south-africa\n",
              "0  republican                   n             y  ...     y         n            y\n",
              "1  republican                   n             y  ...     y         n            ?\n",
              "2    democrat                   ?             y  ...     y         n            n\n",
              "3    democrat                   n             y  ...     n         n            y\n",
              "4    democrat                   y             y  ...     y         y            y\n",
              "\n",
              "[5 rows x 17 columns]"
            ]
          },
          "metadata": {
            "tags": []
          },
          "execution_count": 2
        }
      ]
    },
    {
      "cell_type": "code",
      "metadata": {
        "id": "nqEq7GqPSZc4",
        "colab_type": "code",
        "colab": {
          "base_uri": "https://localhost:8080/",
          "height": 221
        },
        "outputId": "dca87237-d40e-409f-e230-e6cdf6dbda8a"
      },
      "source": [
        "import numpy as np\n",
        "import seaborn as sns \n",
        "df = df.replace({'?':np.NaN, 'n':0, 'y':1})\n",
        "df.head()"
      ],
      "execution_count": 3,
      "outputs": [
        {
          "output_type": "execute_result",
          "data": {
            "text/html": [
              "<div>\n",
              "<style scoped>\n",
              "    .dataframe tbody tr th:only-of-type {\n",
              "        vertical-align: middle;\n",
              "    }\n",
              "\n",
              "    .dataframe tbody tr th {\n",
              "        vertical-align: top;\n",
              "    }\n",
              "\n",
              "    .dataframe thead th {\n",
              "        text-align: right;\n",
              "    }\n",
              "</style>\n",
              "<table border=\"1\" class=\"dataframe\">\n",
              "  <thead>\n",
              "    <tr style=\"text-align: right;\">\n",
              "      <th></th>\n",
              "      <th>party</th>\n",
              "      <th>handicapped-infants</th>\n",
              "      <th>water-project</th>\n",
              "      <th>budget</th>\n",
              "      <th>physician-fee-freeze</th>\n",
              "      <th>el-salvador-aid</th>\n",
              "      <th>religious-groups</th>\n",
              "      <th>anti-satellite-ban</th>\n",
              "      <th>aid-to-contras</th>\n",
              "      <th>mx-missile</th>\n",
              "      <th>immigration</th>\n",
              "      <th>synfuels</th>\n",
              "      <th>education</th>\n",
              "      <th>right-to-sue</th>\n",
              "      <th>crime</th>\n",
              "      <th>duty-free</th>\n",
              "      <th>south-africa</th>\n",
              "    </tr>\n",
              "  </thead>\n",
              "  <tbody>\n",
              "    <tr>\n",
              "      <th>0</th>\n",
              "      <td>republican</td>\n",
              "      <td>0.0</td>\n",
              "      <td>1.0</td>\n",
              "      <td>0.0</td>\n",
              "      <td>1.0</td>\n",
              "      <td>1.0</td>\n",
              "      <td>1.0</td>\n",
              "      <td>0.0</td>\n",
              "      <td>0.0</td>\n",
              "      <td>0.0</td>\n",
              "      <td>1.0</td>\n",
              "      <td>NaN</td>\n",
              "      <td>1.0</td>\n",
              "      <td>1.0</td>\n",
              "      <td>1.0</td>\n",
              "      <td>0.0</td>\n",
              "      <td>1.0</td>\n",
              "    </tr>\n",
              "    <tr>\n",
              "      <th>1</th>\n",
              "      <td>republican</td>\n",
              "      <td>0.0</td>\n",
              "      <td>1.0</td>\n",
              "      <td>0.0</td>\n",
              "      <td>1.0</td>\n",
              "      <td>1.0</td>\n",
              "      <td>1.0</td>\n",
              "      <td>0.0</td>\n",
              "      <td>0.0</td>\n",
              "      <td>0.0</td>\n",
              "      <td>0.0</td>\n",
              "      <td>0.0</td>\n",
              "      <td>1.0</td>\n",
              "      <td>1.0</td>\n",
              "      <td>1.0</td>\n",
              "      <td>0.0</td>\n",
              "      <td>NaN</td>\n",
              "    </tr>\n",
              "    <tr>\n",
              "      <th>2</th>\n",
              "      <td>democrat</td>\n",
              "      <td>NaN</td>\n",
              "      <td>1.0</td>\n",
              "      <td>1.0</td>\n",
              "      <td>NaN</td>\n",
              "      <td>1.0</td>\n",
              "      <td>1.0</td>\n",
              "      <td>0.0</td>\n",
              "      <td>0.0</td>\n",
              "      <td>0.0</td>\n",
              "      <td>0.0</td>\n",
              "      <td>1.0</td>\n",
              "      <td>0.0</td>\n",
              "      <td>1.0</td>\n",
              "      <td>1.0</td>\n",
              "      <td>0.0</td>\n",
              "      <td>0.0</td>\n",
              "    </tr>\n",
              "    <tr>\n",
              "      <th>3</th>\n",
              "      <td>democrat</td>\n",
              "      <td>0.0</td>\n",
              "      <td>1.0</td>\n",
              "      <td>1.0</td>\n",
              "      <td>0.0</td>\n",
              "      <td>NaN</td>\n",
              "      <td>1.0</td>\n",
              "      <td>0.0</td>\n",
              "      <td>0.0</td>\n",
              "      <td>0.0</td>\n",
              "      <td>0.0</td>\n",
              "      <td>1.0</td>\n",
              "      <td>0.0</td>\n",
              "      <td>1.0</td>\n",
              "      <td>0.0</td>\n",
              "      <td>0.0</td>\n",
              "      <td>1.0</td>\n",
              "    </tr>\n",
              "    <tr>\n",
              "      <th>4</th>\n",
              "      <td>democrat</td>\n",
              "      <td>1.0</td>\n",
              "      <td>1.0</td>\n",
              "      <td>1.0</td>\n",
              "      <td>0.0</td>\n",
              "      <td>1.0</td>\n",
              "      <td>1.0</td>\n",
              "      <td>0.0</td>\n",
              "      <td>0.0</td>\n",
              "      <td>0.0</td>\n",
              "      <td>0.0</td>\n",
              "      <td>1.0</td>\n",
              "      <td>NaN</td>\n",
              "      <td>1.0</td>\n",
              "      <td>1.0</td>\n",
              "      <td>1.0</td>\n",
              "      <td>1.0</td>\n",
              "    </tr>\n",
              "  </tbody>\n",
              "</table>\n",
              "</div>"
            ],
            "text/plain": [
              "        party  handicapped-infants  ...  duty-free  south-africa\n",
              "0  republican                  0.0  ...        0.0           1.0\n",
              "1  republican                  0.0  ...        0.0           NaN\n",
              "2    democrat                  NaN  ...        0.0           0.0\n",
              "3    democrat                  0.0  ...        0.0           1.0\n",
              "4    democrat                  1.0  ...        1.0           1.0\n",
              "\n",
              "[5 rows x 17 columns]"
            ]
          },
          "metadata": {
            "tags": []
          },
          "execution_count": 3
        }
      ]
    },
    {
      "cell_type": "code",
      "metadata": {
        "id": "bHr9fstyS_uw",
        "colab_type": "code",
        "colab": {
          "base_uri": "https://localhost:8080/",
          "height": 272
        },
        "outputId": "e8b12507-059e-4440-ed22-467f5c046ada"
      },
      "source": [
        "dem = df[df['party']=='democrat']\n",
        "rep = df[df['party']=='republican']\n",
        "\n",
        "print(dem.head(), rep.head())"
      ],
      "execution_count": 4,
      "outputs": [
        {
          "output_type": "stream",
          "text": [
            "      party  handicapped-infants  water-project  ...  crime  duty-free  south-africa\n",
            "2  democrat                  NaN            1.0  ...    1.0        0.0           0.0\n",
            "3  democrat                  0.0            1.0  ...    0.0        0.0           1.0\n",
            "4  democrat                  1.0            1.0  ...    1.0        1.0           1.0\n",
            "5  democrat                  0.0            1.0  ...    1.0        1.0           1.0\n",
            "6  democrat                  0.0            1.0  ...    1.0        1.0           1.0\n",
            "\n",
            "[5 rows x 17 columns]          party  handicapped-infants  ...  duty-free  south-africa\n",
            "0   republican                  0.0  ...        0.0           1.0\n",
            "1   republican                  0.0  ...        0.0           NaN\n",
            "7   republican                  0.0  ...        NaN           1.0\n",
            "8   republican                  0.0  ...        0.0           1.0\n",
            "10  republican                  0.0  ...        0.0           0.0\n",
            "\n",
            "[5 rows x 17 columns]\n"
          ],
          "name": "stdout"
        }
      ]
    },
    {
      "cell_type": "markdown",
      "metadata": {
        "id": "g4c2Bdu7TYop",
        "colab_type": "text"
      },
      "source": [
        "###Testing water project bill "
      ]
    },
    {
      "cell_type": "markdown",
      "metadata": {
        "id": "bd6-a0m8Timk",
        "colab_type": "text"
      },
      "source": [
        "#### 2 Sample T-test\n",
        "\n",
        "1). Null hypothesis: \n",
        "there is no difference in 2 samples i.e. no difference in how republicans and democrats voted for the water project bill. \n",
        "\n",
        "$\\bar{x}_1 = \\bar{x}_2$\n",
        "\n",
        "2). Alternative hypothesis (interesting hypothesis): \n",
        "there is a difference -- mean voting data is different: \n",
        "\n",
        "$\\bar{x}_1 \\neq \\bar{x}_2$\n",
        "\n",
        "3). Confidence level is 99% per instructions "
      ]
    },
    {
      "cell_type": "code",
      "metadata": {
        "id": "mKjR6JwQTfnW",
        "colab_type": "code",
        "colab": {
          "base_uri": "https://localhost:8080/",
          "height": 34
        },
        "outputId": "ab28ae45-b898-4fda-bad5-a561d19f4336"
      },
      "source": [
        "#Load libraries\n",
        "from scipy.stats import ttest_ind, ttest_ind_from_stats, ttest_rel\n",
        "import scipy.stats\n",
        "from scipy.stats import t\n",
        "from scipy.stats import ttest_1samp \n",
        "\n",
        "#Run t-test\n",
        "\n",
        "ttest_ind(rep['water-project'], dem['water-project'], nan_policy='omit')"
      ],
      "execution_count": 10,
      "outputs": [
        {
          "output_type": "execute_result",
          "data": {
            "text/plain": [
              "Ttest_indResult(statistic=0.08896538137868286, pvalue=0.9291556823993485)"
            ]
          },
          "metadata": {
            "tags": []
          },
          "execution_count": 10
        }
      ]
    },
    {
      "cell_type": "markdown",
      "metadata": {
        "id": "BmeXVbaSVWrq",
        "colab_type": "text"
      },
      "source": [
        "4). T-statistic: 0.09\n",
        "\n",
        "5). P-value: 0.9291; is p-value < (1-confidence level)? \n",
        "\n",
        "\n"
      ]
    },
    {
      "cell_type": "code",
      "metadata": {
        "id": "JTtZrPCIVyym",
        "colab_type": "code",
        "colab": {
          "base_uri": "https://localhost:8080/",
          "height": 34
        },
        "outputId": "c18afaab-2fcf-44c2-e37a-46c8d12d4039"
      },
      "source": [
        "0.9291556823993485 <(1-0.99)"
      ],
      "execution_count": 14,
      "outputs": [
        {
          "output_type": "execute_result",
          "data": {
            "text/plain": [
              "False"
            ]
          },
          "metadata": {
            "tags": []
          },
          "execution_count": 14
        }
      ]
    },
    {
      "cell_type": "markdown",
      "metadata": {
        "id": "q0kEvuhVV7BP",
        "colab_type": "text"
      },
      "source": [
        "Due to our test resulting in a t-statistic of 0.09 and having a p-value of 0.93, we fail to reject the null hypothesis that the voting on a water bill is similar for democrats and republicans. "
      ]
    },
    {
      "cell_type": "code",
      "metadata": {
        "id": "xTV1dcBpXjrQ",
        "colab_type": "code",
        "colab": {
          "base_uri": "https://localhost:8080/",
          "height": 34
        },
        "outputId": "50cc2d81-4d24-448d-f748-6922b33c489c"
      },
      "source": [
        "if(ttest_ind(rep['water-project'], dem['water-project'], nan_policy='omit')[1] <0.01):\n",
        "  print(\"We reject null hypothesis\")\n",
        "else: print (\"We fail to reject null hypothesis\")"
      ],
      "execution_count": 21,
      "outputs": [
        {
          "output_type": "stream",
          "text": [
            "We fail to reject null hypothesis\n"
          ],
          "name": "stdout"
        }
      ]
    },
    {
      "cell_type": "code",
      "metadata": {
        "id": "D_2K5OY_VhWJ",
        "colab_type": "code",
        "colab": {
          "base_uri": "https://localhost:8080/",
          "height": 34
        },
        "outputId": "27d77135-9218-41ac-f6f2-f5f413e08013"
      },
      "source": [
        "print( dem['water-project'].mean(), rep['water-project'].mean())"
      ],
      "execution_count": 18,
      "outputs": [
        {
          "output_type": "stream",
          "text": [
            "0.502092050209205 0.5067567567567568\n"
          ],
          "name": "stdout"
        }
      ]
    },
    {
      "cell_type": "markdown",
      "metadata": {
        "id": "V8dUXP0MXKw-",
        "colab_type": "text"
      },
      "source": [
        "## let's refactor it to run fast for all bills"
      ]
    },
    {
      "cell_type": "code",
      "metadata": {
        "id": "Au-hzN6WVjc5",
        "colab_type": "code",
        "colab": {}
      },
      "source": [
        "#Melt df first \n",
        "\n",
        "new_df=df.melt(id_vars='party')\n",
        "new_df.head()"
      ],
      "execution_count": 0,
      "outputs": []
    },
    {
      "cell_type": "code",
      "metadata": {
        "id": "NINKz-fMYbZR",
        "colab_type": "code",
        "colab": {}
      },
      "source": [
        "#Create a functino which would run t-tests on all of the bills in this df\n",
        "def run_ttests(df):\n",
        "  bills = df['variable'].unique()\n",
        "  new_rep = df[df['party']=='republican']\n",
        "  new_dem = df[df['party']=='democrat']\n",
        "  for bill in bills:\n",
        "    ttest_ind(new_rep.value[new_rep['variable']==bill], new_dem.value[new_dem['variable']==bill], nan_policy='omit')\n",
        "    tstat = ttest_ind(new_rep.value[new_rep['variable']==bill], new_dem.value[new_dem['variable']==bill], nan_policy='omit')[0]\n",
        "    p=ttest_ind(new_rep.value[new_rep['variable']==bill], new_dem.value[new_dem['variable']==bill], nan_policy='omit')[1]\n",
        "    if (p < (1-0.99)): \n",
        "      print( bill, ': Due to our test resulting in T-statistic = ', tstat, 'and having P-value = ', p, 'we REJECT null hypothesis')\n",
        "    else: print(bill, ': Due to our test resulting in T-statistic = ', tstat, 'and having P-value = ', p, 'we FAIL TO REJECT null hypothesis')\n"
      ],
      "execution_count": 0,
      "outputs": []
    },
    {
      "cell_type": "code",
      "metadata": {
        "id": "iAIl4MXPYcht",
        "colab_type": "code",
        "colab": {
          "base_uri": "https://localhost:8080/",
          "height": 289
        },
        "outputId": "d0a08ba7-94a8-4ae8-dfe6-d58ba6ae4ee0"
      },
      "source": [
        "run_ttests(new_df)"
      ],
      "execution_count": 74,
      "outputs": [
        {
          "output_type": "stream",
          "text": [
            "handicapped-infants : Due to our test resulting in T-statistic =  -9.205264294809222 and having P-value =  1.613440327937243e-18 we REJECT null hypothesis\n",
            "water-project : Due to our test resulting in T-statistic =  0.08896538137868286 and having P-value =  0.9291556823993485 we FAIL TO REJECT null hypothesis\n",
            "budget : Due to our test resulting in T-statistic =  -23.21277691701378 and having P-value =  2.0703402795404463e-77 we REJECT null hypothesis\n",
            "physician-fee-freeze : Due to our test resulting in T-statistic =  49.36708157301406 and having P-value =  1.994262314074344e-177 we REJECT null hypothesis\n",
            "el-salvador-aid : Due to our test resulting in T-statistic =  21.13669261173219 and having P-value =  5.600520111729011e-68 we REJECT null hypothesis\n",
            "religious-groups : Due to our test resulting in T-statistic =  9.737575825219457 and having P-value =  2.3936722520597287e-20 we REJECT null hypothesis\n",
            "anti-satellite-ban : Due to our test resulting in T-statistic =  -12.526187929077842 and having P-value =  8.521033017443867e-31 we REJECT null hypothesis\n",
            "aid-to-contras : Due to our test resulting in T-statistic =  -18.052093200819733 and having P-value =  2.82471841372357e-54 we REJECT null hypothesis\n",
            "mx-missile : Due to our test resulting in T-statistic =  -16.437503268542994 and having P-value =  5.03079265310811e-47 we REJECT null hypothesis\n",
            "immigration : Due to our test resulting in T-statistic =  1.7359117329695164 and having P-value =  0.08330248490425066 we FAIL TO REJECT null hypothesis\n",
            "synfuels : Due to our test resulting in T-statistic =  -8.293603989407588 and having P-value =  1.5759322301054064e-15 we REJECT null hypothesis\n",
            "education : Due to our test resulting in T-statistic =  20.500685724563073 and having P-value =  1.8834203990450192e-64 we REJECT null hypothesis\n",
            "right-to-sue : Due to our test resulting in T-statistic =  13.51064251060933 and having P-value =  1.2278581709672758e-34 we REJECT null hypothesis\n",
            "crime : Due to our test resulting in T-statistic =  16.342085656197696 and having P-value =  9.952342705606092e-47 we REJECT null hypothesis\n",
            "duty-free : Due to our test resulting in T-statistic =  -12.853146132542978 and having P-value =  5.997697174347365e-32 we REJECT null hypothesis\n",
            "south-africa : Due to our test resulting in T-statistic =  -6.849454815841208 and having P-value =  3.652674361672226e-11 we REJECT null hypothesis\n"
          ],
          "name": "stdout"
        }
      ]
    },
    {
      "cell_type": "markdown",
      "metadata": {
        "id": "4DlNj4Ssg0-u",
        "colab_type": "text"
      },
      "source": [
        "### Create new function which would also look at whether Dems or Republ voted more on a bill, and whether they pass a t-test: "
      ]
    },
    {
      "cell_type": "code",
      "metadata": {
        "id": "A-QNoGoRg_s3",
        "colab_type": "code",
        "colab": {}
      },
      "source": [
        "#Create a functino which would run t-tests on all of the bills in this df and tests how they voted\n",
        "def ttest_check0(df):\n",
        "  bills = df['variable'].unique()\n",
        "  new_rep = df[df['party']=='republican']\n",
        "  new_dem = df[df['party']=='democrat']\n",
        "  for bill in bills:\n",
        "    ttest_ind(new_rep.value[new_rep['variable']==bill], new_dem.value[new_dem['variable']==bill], nan_policy='omit')\n",
        "    tstat = np.round(ttest_ind(new_rep.value[new_rep['variable']==bill], new_dem.value[new_dem['variable']==bill], nan_policy='omit')[0], 3)\n",
        "    p= np.round(ttest_ind(new_rep.value[new_rep['variable']==bill], new_dem.value[new_dem['variable']==bill], nan_policy='omit')[1],3)\n",
        "    rep_support = np.round((new_rep.value[new_rep['variable']==bill].mean())*100)\n",
        "    dem_support = np.round(new_dem.value[new_dem['variable']==bill].mean()*100)\n",
        "    if (p > 0.01): \n",
        "      print(bill, ' ----- > Statistically, the votes are similar. tstat, p, rep_support, dem_support:',  tstat, p, rep_support, dem_support)\n",
        "    elif (rep_support > dem_support): \n",
        "      print( bill, '----- >  Republicans supported more. tstat, p, rep_support, dem_support: ',  tstat, p, rep_support, dem_support)\n",
        "    else: print( bill, '----- >  Democrats supported more. tstat, p, rep_support, dem_support: ',  tstat, p, rep_support, dem_support)\n",
        "\n",
        "\n",
        "\n"
      ],
      "execution_count": 0,
      "outputs": []
    },
    {
      "cell_type": "code",
      "metadata": {
        "id": "VWu3hMMGbNDv",
        "colab_type": "code",
        "colab": {
          "base_uri": "https://localhost:8080/",
          "height": 289
        },
        "outputId": "3a4861de-3df5-4ff7-d422-9a9b8d5929e2"
      },
      "source": [
        "ttest_check0(new_df)"
      ],
      "execution_count": 110,
      "outputs": [
        {
          "output_type": "stream",
          "text": [
            "handicapped-infants ----- >  Democrats supported more. tstat, p, rep_support, dem_support:  -9.205 0.0 19.0 60.0\n",
            "water-project  ----- > Statistically, the votes are similar. tstat, p, rep_support, dem_support: 0.089 0.929 51.0 50.0\n",
            "budget ----- >  Democrats supported more. tstat, p, rep_support, dem_support:  -23.213 0.0 13.0 89.0\n",
            "physician-fee-freeze ----- >  Republicans supported more. tstat, p, rep_support, dem_support:  49.367 0.0 99.0 5.0\n",
            "el-salvador-aid ----- >  Republicans supported more. tstat, p, rep_support, dem_support:  21.137 0.0 95.0 22.0\n",
            "religious-groups ----- >  Republicans supported more. tstat, p, rep_support, dem_support:  9.738 0.0 90.0 48.0\n",
            "anti-satellite-ban ----- >  Democrats supported more. tstat, p, rep_support, dem_support:  -12.526 0.0 24.0 77.0\n",
            "aid-to-contras ----- >  Democrats supported more. tstat, p, rep_support, dem_support:  -18.052 0.0 15.0 83.0\n",
            "mx-missile ----- >  Democrats supported more. tstat, p, rep_support, dem_support:  -16.438 0.0 12.0 76.0\n",
            "immigration  ----- > Statistically, the votes are similar. tstat, p, rep_support, dem_support: 1.736 0.083 56.0 47.0\n",
            "synfuels ----- >  Democrats supported more. tstat, p, rep_support, dem_support:  -8.294 0.0 13.0 51.0\n",
            "education ----- >  Republicans supported more. tstat, p, rep_support, dem_support:  20.501 0.0 87.0 14.0\n",
            "right-to-sue ----- >  Republicans supported more. tstat, p, rep_support, dem_support:  13.511 0.0 86.0 29.0\n",
            "crime ----- >  Republicans supported more. tstat, p, rep_support, dem_support:  16.342 0.0 98.0 35.0\n",
            "duty-free ----- >  Democrats supported more. tstat, p, rep_support, dem_support:  -12.853 0.0 9.0 64.0\n",
            "south-africa ----- >  Democrats supported more. tstat, p, rep_support, dem_support:  -6.849 0.0 66.0 94.0\n"
          ],
          "name": "stdout"
        }
      ]
    },
    {
      "cell_type": "code",
      "metadata": {
        "id": "eGR9nFXzs4Ot",
        "colab_type": "code",
        "colab": {}
      },
      "source": [
        "#Create a functino which would run t-tests on all of the bills in this df and tests how they voted\n",
        "def ttest_check(df):\n",
        "  result =[]\n",
        "  bills = df['variable'].unique()\n",
        "  new_rep = df[df['party']=='republican']\n",
        "  new_dem = df[df['party']=='democrat']\n",
        "  for bill in bills:\n",
        "    ttest_ind(new_rep.value[new_rep['variable']==bill], new_dem.value[new_dem['variable']==bill], nan_policy='omit')\n",
        "    tstat = np.round(ttest_ind(new_rep.value[new_rep['variable']==bill], new_dem.value[new_dem['variable']==bill], nan_policy='omit')[0], 3)\n",
        "    p= ttest_ind(new_rep.value[new_rep['variable']==bill], new_dem.value[new_dem['variable']==bill], nan_policy='omit')[1]\n",
        "    rep_support = np.round((new_rep.value[new_rep['variable']==bill].mean())*100)\n",
        "    dem_support = np.round(new_dem.value[new_dem['variable']==bill].mean()*100)\n",
        "    if (p > 0.01): \n",
        "      #print(bill, ' ----- > Statistically, the votes are similar. tstat, p, rep_support, dem_support:',  tstat, p, rep_support, dem_support)\n",
        "      result.append([bill, tstat, p, rep_support, dem_support, 'equal'])\n",
        "    elif (rep_support > dem_support): \n",
        "      #print( bill, '----- >  Republicans supported more. tstat, p, rep_support, dem_support: ',  tstat, p, rep_support, dem_support)\n",
        "      result.append([bill, tstat, p, rep_support, dem_support, 'rep_more'])\n",
        "    else: \n",
        "      #print( bill, '----- >  Democrats supported more. tstat, p, rep_support, dem_support: ',  tstat, p, rep_support, dem_support)\n",
        "      result.append([bill, tstat, p, rep_support, dem_support, 'dem_more'])\n",
        "  return result"
      ],
      "execution_count": 0,
      "outputs": []
    },
    {
      "cell_type": "code",
      "metadata": {
        "id": "GJOM5C1RbY_0",
        "colab_type": "code",
        "colab": {
          "base_uri": "https://localhost:8080/",
          "height": 544
        },
        "outputId": "7d4885af-69f8-46f0-af9c-4c10a0087d30"
      },
      "source": [
        "ttest_check(new_df)"
      ],
      "execution_count": 179,
      "outputs": [
        {
          "output_type": "execute_result",
          "data": {
            "text/plain": [
              "[['handicapped-infants',\n",
              "  -9.205,\n",
              "  1.613440327937243e-18,\n",
              "  19.0,\n",
              "  60.0,\n",
              "  'dem_more'],\n",
              " ['water-project', 0.089, 0.9291556823993485, 51.0, 50.0, 'equal'],\n",
              " ['budget', -23.213, 2.0703402795404463e-77, 13.0, 89.0, 'dem_more'],\n",
              " ['physician-fee-freeze',\n",
              "  49.367,\n",
              "  1.994262314074344e-177,\n",
              "  99.0,\n",
              "  5.0,\n",
              "  'rep_more'],\n",
              " ['el-salvador-aid', 21.137, 5.600520111729011e-68, 95.0, 22.0, 'rep_more'],\n",
              " ['religious-groups', 9.738, 2.3936722520597287e-20, 90.0, 48.0, 'rep_more'],\n",
              " ['anti-satellite-ban',\n",
              "  -12.526,\n",
              "  8.521033017443867e-31,\n",
              "  24.0,\n",
              "  77.0,\n",
              "  'dem_more'],\n",
              " ['aid-to-contras', -18.052, 2.82471841372357e-54, 15.0, 83.0, 'dem_more'],\n",
              " ['mx-missile', -16.438, 5.03079265310811e-47, 12.0, 76.0, 'dem_more'],\n",
              " ['immigration', 1.736, 0.08330248490425066, 56.0, 47.0, 'equal'],\n",
              " ['synfuels', -8.294, 1.5759322301054064e-15, 13.0, 51.0, 'dem_more'],\n",
              " ['education', 20.501, 1.8834203990450192e-64, 87.0, 14.0, 'rep_more'],\n",
              " ['right-to-sue', 13.511, 1.2278581709672758e-34, 86.0, 29.0, 'rep_more'],\n",
              " ['crime', 16.342, 9.952342705606092e-47, 98.0, 35.0, 'rep_more'],\n",
              " ['duty-free', -12.853, 5.997697174347365e-32, 9.0, 64.0, 'dem_more'],\n",
              " ['south-africa', -6.849, 3.652674361672226e-11, 66.0, 94.0, 'dem_more']]"
            ]
          },
          "metadata": {
            "tags": []
          },
          "execution_count": 179
        }
      ]
    },
    {
      "cell_type": "code",
      "metadata": {
        "id": "P8zfDlaJjYl-",
        "colab_type": "code",
        "colab": {
          "base_uri": "https://localhost:8080/",
          "height": 545
        },
        "outputId": "bf170335-2d6c-4d41-cfc0-6ba7e0d5262f"
      },
      "source": [
        "data=pd.DataFrame(ttest_check(new_df), columns=['bill', 'tstat', 'p', 'rep_support', 'dem_support', 'result'])\n",
        "data"
      ],
      "execution_count": 172,
      "outputs": [
        {
          "output_type": "execute_result",
          "data": {
            "text/html": [
              "<div>\n",
              "<style scoped>\n",
              "    .dataframe tbody tr th:only-of-type {\n",
              "        vertical-align: middle;\n",
              "    }\n",
              "\n",
              "    .dataframe tbody tr th {\n",
              "        vertical-align: top;\n",
              "    }\n",
              "\n",
              "    .dataframe thead th {\n",
              "        text-align: right;\n",
              "    }\n",
              "</style>\n",
              "<table border=\"1\" class=\"dataframe\">\n",
              "  <thead>\n",
              "    <tr style=\"text-align: right;\">\n",
              "      <th></th>\n",
              "      <th>bill</th>\n",
              "      <th>tstat</th>\n",
              "      <th>p</th>\n",
              "      <th>rep_support</th>\n",
              "      <th>dem_support</th>\n",
              "      <th>result</th>\n",
              "    </tr>\n",
              "  </thead>\n",
              "  <tbody>\n",
              "    <tr>\n",
              "      <th>0</th>\n",
              "      <td>handicapped-infants</td>\n",
              "      <td>-9.205</td>\n",
              "      <td>1.613440e-18</td>\n",
              "      <td>19.0</td>\n",
              "      <td>60.0</td>\n",
              "      <td>dem_more</td>\n",
              "    </tr>\n",
              "    <tr>\n",
              "      <th>1</th>\n",
              "      <td>water-project</td>\n",
              "      <td>0.089</td>\n",
              "      <td>9.291557e-01</td>\n",
              "      <td>51.0</td>\n",
              "      <td>50.0</td>\n",
              "      <td>equal</td>\n",
              "    </tr>\n",
              "    <tr>\n",
              "      <th>2</th>\n",
              "      <td>budget</td>\n",
              "      <td>-23.213</td>\n",
              "      <td>2.070340e-77</td>\n",
              "      <td>13.0</td>\n",
              "      <td>89.0</td>\n",
              "      <td>dem_more</td>\n",
              "    </tr>\n",
              "    <tr>\n",
              "      <th>3</th>\n",
              "      <td>physician-fee-freeze</td>\n",
              "      <td>49.367</td>\n",
              "      <td>1.994262e-177</td>\n",
              "      <td>99.0</td>\n",
              "      <td>5.0</td>\n",
              "      <td>rep_more</td>\n",
              "    </tr>\n",
              "    <tr>\n",
              "      <th>4</th>\n",
              "      <td>el-salvador-aid</td>\n",
              "      <td>21.137</td>\n",
              "      <td>5.600520e-68</td>\n",
              "      <td>95.0</td>\n",
              "      <td>22.0</td>\n",
              "      <td>rep_more</td>\n",
              "    </tr>\n",
              "    <tr>\n",
              "      <th>5</th>\n",
              "      <td>religious-groups</td>\n",
              "      <td>9.738</td>\n",
              "      <td>2.393672e-20</td>\n",
              "      <td>90.0</td>\n",
              "      <td>48.0</td>\n",
              "      <td>rep_more</td>\n",
              "    </tr>\n",
              "    <tr>\n",
              "      <th>6</th>\n",
              "      <td>anti-satellite-ban</td>\n",
              "      <td>-12.526</td>\n",
              "      <td>8.521033e-31</td>\n",
              "      <td>24.0</td>\n",
              "      <td>77.0</td>\n",
              "      <td>dem_more</td>\n",
              "    </tr>\n",
              "    <tr>\n",
              "      <th>7</th>\n",
              "      <td>aid-to-contras</td>\n",
              "      <td>-18.052</td>\n",
              "      <td>2.824718e-54</td>\n",
              "      <td>15.0</td>\n",
              "      <td>83.0</td>\n",
              "      <td>dem_more</td>\n",
              "    </tr>\n",
              "    <tr>\n",
              "      <th>8</th>\n",
              "      <td>mx-missile</td>\n",
              "      <td>-16.438</td>\n",
              "      <td>5.030793e-47</td>\n",
              "      <td>12.0</td>\n",
              "      <td>76.0</td>\n",
              "      <td>dem_more</td>\n",
              "    </tr>\n",
              "    <tr>\n",
              "      <th>9</th>\n",
              "      <td>immigration</td>\n",
              "      <td>1.736</td>\n",
              "      <td>8.330248e-02</td>\n",
              "      <td>56.0</td>\n",
              "      <td>47.0</td>\n",
              "      <td>rep_more</td>\n",
              "    </tr>\n",
              "    <tr>\n",
              "      <th>10</th>\n",
              "      <td>synfuels</td>\n",
              "      <td>-8.294</td>\n",
              "      <td>1.575932e-15</td>\n",
              "      <td>13.0</td>\n",
              "      <td>51.0</td>\n",
              "      <td>dem_more</td>\n",
              "    </tr>\n",
              "    <tr>\n",
              "      <th>11</th>\n",
              "      <td>education</td>\n",
              "      <td>20.501</td>\n",
              "      <td>1.883420e-64</td>\n",
              "      <td>87.0</td>\n",
              "      <td>14.0</td>\n",
              "      <td>rep_more</td>\n",
              "    </tr>\n",
              "    <tr>\n",
              "      <th>12</th>\n",
              "      <td>right-to-sue</td>\n",
              "      <td>13.511</td>\n",
              "      <td>1.227858e-34</td>\n",
              "      <td>86.0</td>\n",
              "      <td>29.0</td>\n",
              "      <td>rep_more</td>\n",
              "    </tr>\n",
              "    <tr>\n",
              "      <th>13</th>\n",
              "      <td>crime</td>\n",
              "      <td>16.342</td>\n",
              "      <td>9.952343e-47</td>\n",
              "      <td>98.0</td>\n",
              "      <td>35.0</td>\n",
              "      <td>rep_more</td>\n",
              "    </tr>\n",
              "    <tr>\n",
              "      <th>14</th>\n",
              "      <td>duty-free</td>\n",
              "      <td>-12.853</td>\n",
              "      <td>5.997697e-32</td>\n",
              "      <td>9.0</td>\n",
              "      <td>64.0</td>\n",
              "      <td>dem_more</td>\n",
              "    </tr>\n",
              "    <tr>\n",
              "      <th>15</th>\n",
              "      <td>south-africa</td>\n",
              "      <td>-6.849</td>\n",
              "      <td>3.652674e-11</td>\n",
              "      <td>66.0</td>\n",
              "      <td>94.0</td>\n",
              "      <td>dem_more</td>\n",
              "    </tr>\n",
              "  </tbody>\n",
              "</table>\n",
              "</div>"
            ],
            "text/plain": [
              "                    bill   tstat  ...  dem_support    result\n",
              "0    handicapped-infants  -9.205  ...         60.0  dem_more\n",
              "1          water-project   0.089  ...         50.0     equal\n",
              "2                 budget -23.213  ...         89.0  dem_more\n",
              "3   physician-fee-freeze  49.367  ...          5.0  rep_more\n",
              "4        el-salvador-aid  21.137  ...         22.0  rep_more\n",
              "5       religious-groups   9.738  ...         48.0  rep_more\n",
              "6     anti-satellite-ban -12.526  ...         77.0  dem_more\n",
              "7         aid-to-contras -18.052  ...         83.0  dem_more\n",
              "8             mx-missile -16.438  ...         76.0  dem_more\n",
              "9            immigration   1.736  ...         47.0  rep_more\n",
              "10              synfuels  -8.294  ...         51.0  dem_more\n",
              "11             education  20.501  ...         14.0  rep_more\n",
              "12          right-to-sue  13.511  ...         29.0  rep_more\n",
              "13                 crime  16.342  ...         35.0  rep_more\n",
              "14             duty-free -12.853  ...         64.0  dem_more\n",
              "15          south-africa  -6.849  ...         94.0  dem_more\n",
              "\n",
              "[16 rows x 6 columns]"
            ]
          },
          "metadata": {
            "tags": []
          },
          "execution_count": 172
        }
      ]
    },
    {
      "cell_type": "code",
      "metadata": {
        "id": "29KpjUyUznP_",
        "colab_type": "code",
        "colab": {
          "base_uri": "https://localhost:8080/",
          "height": 419
        },
        "outputId": "1b042e31-967d-4f76-d973-426d3ee48e1a"
      },
      "source": [
        "import seaborn as sns\n",
        "import matplotlib.pyplot as plt\n",
        "\n",
        "data=data.melt(id_vars=['bill', 'result'])\n",
        "data\n",
        "\n",
        "# fix, ax = plt.subplots()\n",
        "# data.plot()\n"
      ],
      "execution_count": 174,
      "outputs": [
        {
          "output_type": "execute_result",
          "data": {
            "text/html": [
              "<div>\n",
              "<style scoped>\n",
              "    .dataframe tbody tr th:only-of-type {\n",
              "        vertical-align: middle;\n",
              "    }\n",
              "\n",
              "    .dataframe tbody tr th {\n",
              "        vertical-align: top;\n",
              "    }\n",
              "\n",
              "    .dataframe thead th {\n",
              "        text-align: right;\n",
              "    }\n",
              "</style>\n",
              "<table border=\"1\" class=\"dataframe\">\n",
              "  <thead>\n",
              "    <tr style=\"text-align: right;\">\n",
              "      <th></th>\n",
              "      <th>bill</th>\n",
              "      <th>result</th>\n",
              "      <th>variable</th>\n",
              "      <th>value</th>\n",
              "    </tr>\n",
              "  </thead>\n",
              "  <tbody>\n",
              "    <tr>\n",
              "      <th>0</th>\n",
              "      <td>handicapped-infants</td>\n",
              "      <td>dem_more</td>\n",
              "      <td>tstat</td>\n",
              "      <td>-9.205</td>\n",
              "    </tr>\n",
              "    <tr>\n",
              "      <th>1</th>\n",
              "      <td>water-project</td>\n",
              "      <td>equal</td>\n",
              "      <td>tstat</td>\n",
              "      <td>0.089</td>\n",
              "    </tr>\n",
              "    <tr>\n",
              "      <th>2</th>\n",
              "      <td>budget</td>\n",
              "      <td>dem_more</td>\n",
              "      <td>tstat</td>\n",
              "      <td>-23.213</td>\n",
              "    </tr>\n",
              "    <tr>\n",
              "      <th>3</th>\n",
              "      <td>physician-fee-freeze</td>\n",
              "      <td>rep_more</td>\n",
              "      <td>tstat</td>\n",
              "      <td>49.367</td>\n",
              "    </tr>\n",
              "    <tr>\n",
              "      <th>4</th>\n",
              "      <td>el-salvador-aid</td>\n",
              "      <td>rep_more</td>\n",
              "      <td>tstat</td>\n",
              "      <td>21.137</td>\n",
              "    </tr>\n",
              "    <tr>\n",
              "      <th>...</th>\n",
              "      <td>...</td>\n",
              "      <td>...</td>\n",
              "      <td>...</td>\n",
              "      <td>...</td>\n",
              "    </tr>\n",
              "    <tr>\n",
              "      <th>59</th>\n",
              "      <td>education</td>\n",
              "      <td>rep_more</td>\n",
              "      <td>dem_support</td>\n",
              "      <td>14.000</td>\n",
              "    </tr>\n",
              "    <tr>\n",
              "      <th>60</th>\n",
              "      <td>right-to-sue</td>\n",
              "      <td>rep_more</td>\n",
              "      <td>dem_support</td>\n",
              "      <td>29.000</td>\n",
              "    </tr>\n",
              "    <tr>\n",
              "      <th>61</th>\n",
              "      <td>crime</td>\n",
              "      <td>rep_more</td>\n",
              "      <td>dem_support</td>\n",
              "      <td>35.000</td>\n",
              "    </tr>\n",
              "    <tr>\n",
              "      <th>62</th>\n",
              "      <td>duty-free</td>\n",
              "      <td>dem_more</td>\n",
              "      <td>dem_support</td>\n",
              "      <td>64.000</td>\n",
              "    </tr>\n",
              "    <tr>\n",
              "      <th>63</th>\n",
              "      <td>south-africa</td>\n",
              "      <td>dem_more</td>\n",
              "      <td>dem_support</td>\n",
              "      <td>94.000</td>\n",
              "    </tr>\n",
              "  </tbody>\n",
              "</table>\n",
              "<p>64 rows × 4 columns</p>\n",
              "</div>"
            ],
            "text/plain": [
              "                    bill    result     variable   value\n",
              "0    handicapped-infants  dem_more        tstat  -9.205\n",
              "1          water-project     equal        tstat   0.089\n",
              "2                 budget  dem_more        tstat -23.213\n",
              "3   physician-fee-freeze  rep_more        tstat  49.367\n",
              "4        el-salvador-aid  rep_more        tstat  21.137\n",
              "..                   ...       ...          ...     ...\n",
              "59             education  rep_more  dem_support  14.000\n",
              "60          right-to-sue  rep_more  dem_support  29.000\n",
              "61                 crime  rep_more  dem_support  35.000\n",
              "62             duty-free  dem_more  dem_support  64.000\n",
              "63          south-africa  dem_more  dem_support  94.000\n",
              "\n",
              "[64 rows x 4 columns]"
            ]
          },
          "metadata": {
            "tags": []
          },
          "execution_count": 174
        }
      ]
    },
    {
      "cell_type": "code",
      "metadata": {
        "id": "OICboy1F05hy",
        "colab_type": "code",
        "colab": {}
      },
      "source": [
        ""
      ],
      "execution_count": 0,
      "outputs": []
    }
  ]
}